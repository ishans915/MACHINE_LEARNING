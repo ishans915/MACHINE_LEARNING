{
 "cells": [
  {
   "cell_type": "code",
   "execution_count": 1,
   "id": "9b71aff9",
   "metadata": {},
   "outputs": [],
   "source": [
    "#IMPORT LIBRARIES\n",
    "import numpy as np"
   ]
  },
  {
   "cell_type": "code",
   "execution_count": 3,
   "id": "ff7dd7ac",
   "metadata": {},
   "outputs": [],
   "source": [
    "#IMPORT K MEANS CLASS FROM SKLEARN CLUSTER\n",
    "from sklearn.cluster import KMeans"
   ]
  },
  {
   "cell_type": "code",
   "execution_count": 4,
   "id": "fc0365c1",
   "metadata": {},
   "outputs": [],
   "source": [
    "#MAKE RANDOM DATASET FROM SCIKIT INBUILT FUNCTIONS\n",
    "from sklearn.datasets import make_blobs"
   ]
  },
  {
   "cell_type": "code",
   "execution_count": 7,
   "id": "8ae8abd6",
   "metadata": {},
   "outputs": [
    {
     "data": {
      "text/plain": [
       "array([2, 1, 0, 1, 2, 2, 0, 2, 1, 1, 2, 0, 2, 2, 0, 1, 2, 2, 2, 0, 0, 0,\n",
       "       1, 0, 0, 1, 0, 1, 2, 1, 2, 1, 1, 1, 0, 2, 0, 1, 0, 1, 0, 2, 1, 2,\n",
       "       0, 2, 2, 0, 0, 2, 1, 1, 1, 2, 1, 0, 1, 1, 0, 2, 2, 1, 2, 2, 0, 2,\n",
       "       0, 0, 1, 0, 2, 2, 1, 2, 1, 1, 1, 1, 1, 2, 2, 0, 1, 1, 1, 1, 1, 2,\n",
       "       1, 2, 0, 1, 1, 0, 2, 2, 0, 1, 0, 1, 2, 1, 0, 1, 1, 2, 2, 1, 1, 2,\n",
       "       1, 2, 0, 2, 0, 2, 0, 0, 2, 0, 1, 2, 2, 2, 1, 1, 2, 0, 1, 2, 2, 0,\n",
       "       1, 0, 2, 1, 2, 2, 2, 2, 0, 0, 0, 0, 1, 2, 1, 2, 1, 2, 2, 0, 2, 2,\n",
       "       2, 1, 2, 0, 0, 2, 0, 2, 1, 2, 2, 0, 0, 1, 2, 1, 0, 0, 1, 1, 0, 1,\n",
       "       2, 2, 2, 1, 2, 2, 2, 0, 0, 1, 2, 2, 2, 0, 0, 2, 0, 0, 2, 0, 0, 2,\n",
       "       1, 1, 1, 1, 0, 1, 0, 2, 1, 0, 2, 2, 0, 0, 0, 0, 1, 1, 1, 1, 0, 2,\n",
       "       0, 0, 0, 2, 2, 1, 2, 0, 2, 1, 0, 1, 1, 1, 0, 0, 1, 1, 2, 2, 1, 2,\n",
       "       2, 0, 0, 1, 2, 1, 2, 1, 1, 2, 2, 0, 0, 0, 2, 2, 1, 0, 0, 1, 0, 0,\n",
       "       0, 2, 0, 0, 0, 1, 2, 0, 0, 1, 0, 0, 1, 0, 0, 1, 1, 0, 0, 1, 1, 2,\n",
       "       1, 1, 2, 1, 0, 0, 0, 1, 0, 2, 0, 1, 1, 0])"
      ]
     },
     "execution_count": 7,
     "metadata": {},
     "output_type": "execute_result"
    }
   ],
   "source": [
    "#MAKE DATASET---\n",
    "\n",
    "#DEFINE NO OF SAMPLES\n",
    "n_samples=300\n",
    "\n",
    "#DEFINE RANDOM STATE VALUE TO INITIALIZE THE CENTER/CENTROID\n",
    "random_state=20\n",
    "\n",
    "#DEFINE NUMBER OF FEATURES AS n_features WHILE CONSTRUCTING BELOW\n",
    "\n",
    "#CONSTRUCT DATASET\n",
    "x,y=make_blobs(n_samples=n_samples,n_features=5,random_state=None)\n",
    "\n",
    "#RUN KMEANS , HERE n_clusters=3 MEANS THREE SUCH CLUSTERS WOULD BE FORMED\n",
    "predict_y=KMeans(n_clusters=3,random_state=random_state).fit_predict(x)\n",
    "\n",
    "#PRINT ESTIMATOR RESULT\n",
    "predict_y"
   ]
  },
  {
   "cell_type": "code",
   "execution_count": null,
   "id": "e59a8a17",
   "metadata": {},
   "outputs": [],
   "source": []
  }
 ],
 "metadata": {
  "kernelspec": {
   "display_name": "Python 3",
   "language": "python",
   "name": "python3"
  },
  "language_info": {
   "codemirror_mode": {
    "name": "ipython",
    "version": 3
   },
   "file_extension": ".py",
   "mimetype": "text/x-python",
   "name": "python",
   "nbconvert_exporter": "python",
   "pygments_lexer": "ipython3",
   "version": "3.8.8"
  }
 },
 "nbformat": 4,
 "nbformat_minor": 5
}
